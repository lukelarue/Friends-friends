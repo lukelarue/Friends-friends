{
 "cells": [
  {
   "cell_type": "code",
   "execution_count": 1,
   "metadata": {},
   "outputs": [],
   "source": [
    "from selenium import webdriver\n",
    "\n",
    "path = r\"C:\\Program Files (x86)\\Google\\Chrome\\Application\\chromedriver.exe\"\n",
    "driver = webdriver.Chrome(path)\n",
    "driver.get('https://www.facebook.com/luke.larue.52/friends?lst=100001552870876%3A100001552870876%3A1592411137&source_ref=pb_friends_tl')"
   ]
  },
  {
   "cell_type": "code",
   "execution_count": 2,
   "metadata": {},
   "outputs": [],
   "source": [
    "def scrolltobottom(driver, rest = 0.5):\n",
    "    '''\n",
    "    Scroll to the bottom of a page that only loads a few elements at a time\n",
    "    '''\n",
    "    while True:\n",
    "        height = driver.execute_script(\"return document.documentElement.scrollHeight\")\n",
    "        driver.execute_script(\"window.scrollTo(0,document.body.scrollHeight)\")\n",
    "        #wait for new friends to load\n",
    "        time.sleep(0.5)\n",
    "        newHeight = driver.execute_script(\"return document.documentElement.scrollHeight\")\n",
    "        if newHeight == height:\n",
    "            #run once more to make sure\n",
    "            driver.execute_script(\"window.scrollTo(0,document.body.scrollHeight)\")\n",
    "            time.sleep(rest)\n",
    "            newHeight = driver.execute_script(\"return document.documentElement.scrollHeight\")\n",
    "            if newHeight == height:\n",
    "                return\n",
    "            else:\n",
    "                continue\n",
    "        else:\n",
    "            continue\n",
    "            "
   ]
  },
  {
   "cell_type": "code",
   "execution_count": 4,
   "metadata": {},
   "outputs": [],
   "source": [
    "#sign in them run this to get to friends page\n",
    "driver.get('https://www.facebook.com/luke.larue.52/friends?lst=100001552870876%3A100001552870876%3A1592411137&source_ref=pb_friends_tl')"
   ]
  },
  {
   "cell_type": "code",
   "execution_count": 5,
   "metadata": {},
   "outputs": [],
   "source": [
    "#scroll to bottom to load every element then scrape friends data\n",
    "import time\n",
    "scrolltobottom(driver)\n",
    "friends = driver.find_elements_by_class_name('_39g5')"
   ]
  },
  {
   "cell_type": "code",
   "execution_count": 6,
   "metadata": {},
   "outputs": [],
   "source": [
    "#Remove all friends who do not show their total friends but only mutual friends\n",
    "#Also remove weird stuff that are not friend counts. I had 4 of these weird things in my friendlist, 2 said \n",
    "#\"The University of Texas at Austin\", 1 said \"University of Texas', 1 said \"Teaching Assistant (TA)\"\n",
    "odd = {}\n",
    "for i in range(len(friends)):\n",
    "    if 'friend' not in friends[i].text or 'mutual' in friends[i].text:\n",
    "        odd[i] = friends[i].text\n",
    "        \n",
    "unwanted = list(odd.keys())\n",
    "for ele in sorted(unwanted, reverse = True):\n",
    "    del(friends[ele])\n",
    "    "
   ]
  },
  {
   "cell_type": "code",
   "execution_count": 7,
   "metadata": {},
   "outputs": [],
   "source": [
    "#convert to numpy array of ints\n",
    "import numpy as np\n",
    "data = np.empty(len(friends))\n",
    "for idx, friend in enumerate(friends):\n",
    "    decomma = friend.text.replace(',', '')\n",
    "    data[idx] = [int(s) for s in decomma.split() if s.isdigit()][0]\n",
    "    \n",
    "    "
   ]
  },
  {
   "cell_type": "code",
   "execution_count": 8,
   "metadata": {},
   "outputs": [
    {
     "data": {
      "image/png": "[encoded data removed]",
      "text/plain": [
       "<Figure size 864x432 with 1 Axes>"
      ]
     },
     "metadata": {
      "needs_background": "light"
     },
     "output_type": "display_data"
    }
   ],
   "source": [
    "import seaborn as sns\n",
    "import matplotlib.pyplot as plt\n",
    "fig_dims = (12, 6)\n",
    "fig, ax = plt.subplots(figsize=fig_dims)\n",
    "sns.distplot(data, ax=ax, kde = False);"
   ]
  },
  {
   "cell_type": "code",
   "execution_count": null,
   "metadata": {},
   "outputs": [],
   "source": []
  }
 ],
 "metadata": {
  "kernelspec": {
   "display_name": "Python 3",
   "language": "python",
   "name": "python3"
  },
  "language_info": {
   "codemirror_mode": {
    "name": "ipython",
    "version": 3
   },
   "file_extension": ".py",
   "mimetype": "text/x-python",
   "name": "python",
   "nbconvert_exporter": "python",
   "pygments_lexer": "ipython3",
   "version": "3.7.3"
  }
 },
 "nbformat": 4,
 "nbformat_minor": 2
}
